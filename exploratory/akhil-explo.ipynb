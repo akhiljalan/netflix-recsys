{
 "cells": [
  {
   "cell_type": "code",
   "execution_count": 22,
   "metadata": {},
   "outputs": [],
   "source": [
    "import os\n",
    "import datetime"
   ]
  },
  {
   "cell_type": "markdown",
   "metadata": {},
   "source": [
    "# Wrangling the Data\n",
    "\n",
    "Let's take a peek in the data directory."
   ]
  },
  {
   "cell_type": "code",
   "execution_count": 3,
   "metadata": {},
   "outputs": [
    {
     "name": "stdout",
     "output_type": "stream",
     "text": [
      "combined_data_1.txt\n",
      "combined_data_2.txt\n",
      "combined_data_3.txt\n",
      "combined_data_4.txt\n",
      "movie_titles.csv\n",
      "probe.txt\n",
      "qualifying.txt\n",
      "README\n",
      "README.md\n"
     ]
    }
   ],
   "source": [
    "#source: http://stackabuse.com/python-list-files-in-a-directory/\n",
    "for root, dirs, files in os.walk('../data'): \n",
    "    for file in files: \n",
    "        print(file)\n",
    "        \n",
    "DATA_PATH = '../data/'"
   ]
  },
  {
   "cell_type": "markdown",
   "metadata": {},
   "source": [
    "## Text Files\n",
    "\n",
    "Let's look at the text file and create some simple functions that allow pre-processing"
   ]
  },
  {
   "cell_type": "code",
   "execution_count": 6,
   "metadata": {},
   "outputs": [
    {
     "name": "stdout",
     "output_type": "stream",
     "text": [
      "1:\n",
      "\n",
      "1488844,3,2005-09-06\n",
      "\n",
      "822109,5,2005-05-13\n",
      "\n",
      "885013,4,2005-10-19\n",
      "\n",
      "30878,4,2005-12-26\n",
      "\n",
      "823519,3,2004-05-03\n",
      "\n",
      "893988,3,2005-11-17\n",
      "\n",
      "124105,4,2004-08-05\n",
      "\n",
      "1248029,3,2004-04-22\n",
      "\n",
      "1842128,4,2004-05-09\n",
      "\n"
     ]
    }
   ],
   "source": [
    "file = open(DATA_PATH + 'combined_data_1.txt', 'r')\n",
    "for _ in range(10):\n",
    "    print(file.readline())"
   ]
  },
  {
   "cell_type": "markdown",
   "metadata": {},
   "source": [
    "We know that the data comes in the form **CustomerID,Rating,Date**. Let's write a helper function which reads this string triple and turns it into a dictionary."
   ]
  },
  {
   "cell_type": "code",
   "execution_count": 28,
   "metadata": {},
   "outputs": [],
   "source": [
    "def read_rating_triple(triple_str): \n",
    "    '''    \n",
    "    Input: A string of the form \"CustomerID,Rating,Date\"\n",
    "    Output: A dictionary with these attributes as values\n",
    "    '''\n",
    "    components = triple_str.split(',')\n",
    "    date_str = components[2].replace('\\n', '') #remove the '\\n' at end of string\n",
    "    date = datetime.datetime.strptime(date_str, '%Y-%m-%d')\n",
    "    rating_dict = {\n",
    "                    'Customer_ID': int(components[0]), \n",
    "                    'Rating': int(components[1]), \n",
    "                    'Date': date\n",
    "                  }\n",
    "    return rating_dict"
   ]
  },
  {
   "cell_type": "code",
   "execution_count": 31,
   "metadata": {},
   "outputs": [
    {
     "data": {
      "text/plain": [
       "{'Date': datetime.datetime(2004, 8, 5, 0, 0), 'ID': 124105, 'Rating': 4}"
      ]
     },
     "execution_count": 31,
     "metadata": {},
     "output_type": "execute_result"
    }
   ],
   "source": [
    "read_rating_triple('124105,4,2004-08-05')"
   ]
  },
  {
   "cell_type": "code",
   "execution_count": 32,
   "metadata": {},
   "outputs": [
    {
     "data": {
      "text/plain": [
       "{'Date': datetime.datetime(2004, 5, 3, 0, 0), 'ID': 823519, 'Rating': 3}"
      ]
     },
     "execution_count": 32,
     "metadata": {},
     "output_type": "execute_result"
    }
   ],
   "source": [
    "read_rating_triple('823519,3,2004-05-03\\n')"
   ]
  },
  {
   "cell_type": "markdown",
   "metadata": {},
   "source": [
    "Next, we need to create\n",
    "\n",
    "* A function to create a quadruplet - the original triple, and the movie ID in question\n",
    "* A function which reads the entire text file, not just individual lines"
   ]
  },
  {
   "cell_type": "code",
   "execution_count": 35,
   "metadata": {},
   "outputs": [],
   "source": [
    "def make_rating_tuple(rating_triple_dict, movie_id): \n",
    "    rating_triple_dict['Movie_ID'] = int(movie_id)\n",
    "    return rating_triple_dict"
   ]
  },
  {
   "cell_type": "code",
   "execution_count": 38,
   "metadata": {},
   "outputs": [
    {
     "data": {
      "text/plain": [
       "{'Date': datetime.datetime(2004, 8, 5, 0, 0), 'ID': 124105, 'Rating': 4}"
      ]
     },
     "execution_count": 38,
     "metadata": {},
     "output_type": "execute_result"
    }
   ],
   "source": [
    "triple_dict = read_rating_triple('124105,4,2004-08-05')\n",
    "triple_dict"
   ]
  },
  {
   "cell_type": "code",
   "execution_count": 37,
   "metadata": {},
   "outputs": [
    {
     "data": {
      "text/plain": [
       "{'Date': datetime.datetime(2004, 8, 5, 0, 0),\n",
       " 'ID': 124105,\n",
       " 'Movie_ID': 1,\n",
       " 'Rating': 4}"
      ]
     },
     "execution_count": 37,
     "metadata": {},
     "output_type": "execute_result"
    }
   ],
   "source": [
    "make_rating_tuple(triple_dict, 1)"
   ]
  },
  {
   "cell_type": "code",
   "execution_count": null,
   "metadata": {},
   "outputs": [],
   "source": []
  },
  {
   "cell_type": "code",
   "execution_count": null,
   "metadata": {},
   "outputs": [],
   "source": []
  },
  {
   "cell_type": "code",
   "execution_count": null,
   "metadata": {},
   "outputs": [],
   "source": [
    "\n",
    "with open(DATA_PATH + 'combined_data_2.txt', 'r') as f: \n",
    "    for _ in range(1000): \n",
    "        line = f.readline()\n",
    "        if ':' in line: \n",
    "            print(line)"
   ]
  }
 ],
 "metadata": {
  "kernelspec": {
   "display_name": "Python 3",
   "language": "python",
   "name": "python3"
  },
  "language_info": {
   "codemirror_mode": {
    "name": "ipython",
    "version": 3
   },
   "file_extension": ".py",
   "mimetype": "text/x-python",
   "name": "python",
   "nbconvert_exporter": "python",
   "pygments_lexer": "ipython3",
   "version": "3.6.3"
  }
 },
 "nbformat": 4,
 "nbformat_minor": 2
}
